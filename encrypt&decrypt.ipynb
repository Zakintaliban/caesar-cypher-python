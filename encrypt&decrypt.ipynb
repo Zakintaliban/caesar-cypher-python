{
  "nbformat": 4,
  "nbformat_minor": 0,
  "metadata": {
    "colab": {
      "provenance": [],
      "authorship_tag": "ABX9TyNN4TWLa06SbMEj5bVsKJTg",
      "include_colab_link": true
    },
    "kernelspec": {
      "name": "python3",
      "display_name": "Python 3"
    },
    "language_info": {
      "name": "python"
    }
  },
  "cells": [
    {
      "cell_type": "markdown",
      "metadata": {
        "id": "view-in-github",
        "colab_type": "text"
      },
      "source": [
        "<a href=\"https://colab.research.google.com/github/Zakintaliban/kriptografi-praktikum1-python/blob/master/encrypt%26decrypt.ipynb\" target=\"_parent\"><img src=\"https://colab.research.google.com/assets/colab-badge.svg\" alt=\"Open In Colab\"/></a>"
      ]
    },
    {
      "cell_type": "code",
      "execution_count": null,
      "metadata": {
        "id": "WboG6Ze6UB5v"
      },
      "outputs": [],
      "source": [
        "import string\n",
        "plain_text = (input(\"Enter the plain text: \").lower())\n",
        "shift = int(input(\"Enter the shift: \"))\n",
        "shift %= 26\n",
        "ALPHABETS = string.ascii_lowercase\n",
        "shifted = ALPHABETS[shift:] + ALPHABETS[:shift]\n",
        "tableshift = str.maketrans(ALPHABETS, shifted)\n",
        "encrypted = plain_text.translate(tableshift)\n",
        "print(encrypted)\n",
        "\"\"\"\n",
        "kebalikan dari shifted, mereka mundur,\n",
        "dari defghijklmnopqrstuvwxyzabc menjadi\n",
        "abcdefghijklmnopqrstuvwxyz ketika dimundur 3\n",
        "\"\"\"\n",
        "unshifted = ALPHABETS[-shift:] + ALPHABETS[:-shift]\n",
        "\"\"\"\n",
        "guna maketrans ialah mengganti huruf yang ter-encrypted\n",
        "dengan huruf yang akan dimundur (contoh, d menjadi a)\n",
        "\"\"\"\n",
        "tableunshift = str.maketrans(ALPHABETS, unshifted)\n",
        "# mengksekusikan shifted/encrypt text menjadi plain/decrypt text\n",
        "decrypted = encrypted.translate(tableunshift)\n",
        "# hasil decrypt\n",
        "print(decrypted)"
      ]
    }
  ]
}